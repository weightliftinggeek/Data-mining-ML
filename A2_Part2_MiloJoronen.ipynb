{
 "cells": [
  {
   "cell_type": "code",
   "execution_count": 1,
   "id": "152d070c",
   "metadata": {},
   "outputs": [],
   "source": [
    "import pandas as pd\n",
    "import numpy as np\n",
    "from sklearn.metrics import accuracy_score\n",
    "from sklearn.cluster import KMeans\n",
    "from sklearn.metrics import classification_report,confusion_matrix, accuracy_score"
   ]
  },
  {
   "cell_type": "code",
   "execution_count": 2,
   "id": "4cc3801e",
   "metadata": {},
   "outputs": [
    {
     "data": {
      "text/plain": [
       "(351, 35)"
      ]
     },
     "execution_count": 2,
     "metadata": {},
     "output_type": "execute_result"
    }
   ],
   "source": [
    "#Import the ionoshpere dataset\n",
    "iono_1 = pd.read_csv('ionoshpere.csv')\n",
    "#Check dimension\n",
    "iono_1.shape"
   ]
  },
  {
   "cell_type": "code",
   "execution_count": 3,
   "id": "2c5609f5",
   "metadata": {},
   "outputs": [
    {
     "name": "stdout",
     "output_type": "stream",
     "text": [
      "               a1     a2          a3          a4          a5          a6  \\\n",
      "count  351.000000  351.0  351.000000  351.000000  351.000000  351.000000   \n",
      "mean     0.891738    0.0    0.641342    0.044372    0.601068    0.115889   \n",
      "std      0.311155    0.0    0.497708    0.441435    0.519862    0.460810   \n",
      "min      0.000000    0.0   -1.000000   -1.000000   -1.000000   -1.000000   \n",
      "25%      1.000000    0.0    0.472135   -0.064735    0.412660   -0.024795   \n",
      "50%      1.000000    0.0    0.871110    0.016310    0.809200    0.022800   \n",
      "75%      1.000000    0.0    1.000000    0.194185    1.000000    0.334655   \n",
      "max      1.000000    0.0    1.000000    1.000000    1.000000    1.000000   \n",
      "\n",
      "               a7          a8          a9         a10  ...         a25  \\\n",
      "count  351.000000  351.000000  351.000000  351.000000  ...  351.000000   \n",
      "mean     0.550095    0.119360    0.511848    0.181345  ...    0.396135   \n",
      "std      0.492654    0.520750    0.507066    0.483851  ...    0.578451   \n",
      "min     -1.000000   -1.000000   -1.000000   -1.000000  ...   -1.000000   \n",
      "25%      0.211310   -0.054840    0.087110   -0.048075  ...    0.000000   \n",
      "50%      0.728730    0.014710    0.684210    0.018290  ...    0.553890   \n",
      "75%      0.969240    0.445675    0.953240    0.534195  ...    0.905240   \n",
      "max      1.000000    1.000000    1.000000    1.000000  ...    1.000000   \n",
      "\n",
      "              a26         a27         a28         a29         a30         a31  \\\n",
      "count  351.000000  351.000000  351.000000  351.000000  351.000000  351.000000   \n",
      "mean    -0.071187    0.541641   -0.069538    0.378445   -0.027907    0.352514   \n",
      "std      0.508495    0.516205    0.550025    0.575886    0.507974    0.571483   \n",
      "min     -1.000000   -1.000000   -1.000000   -1.000000   -1.000000   -1.000000   \n",
      "25%     -0.332390    0.286435   -0.443165    0.000000   -0.236885    0.000000   \n",
      "50%     -0.015050    0.708240   -0.017690    0.496640    0.000000    0.442770   \n",
      "75%      0.156765    0.999945    0.153535    0.883465    0.154075    0.857620   \n",
      "max      1.000000    1.000000    1.000000    1.000000    1.000000    1.000000   \n",
      "\n",
      "              a32         a33         a34  \n",
      "count  351.000000  351.000000  351.000000  \n",
      "mean    -0.003794    0.349364    0.014480  \n",
      "std      0.513574    0.522663    0.468337  \n",
      "min     -1.000000   -1.000000   -1.000000  \n",
      "25%     -0.242595    0.000000   -0.165350  \n",
      "50%      0.000000    0.409560    0.000000  \n",
      "75%      0.200120    0.813765    0.171660  \n",
      "max      1.000000    1.000000    1.000000  \n",
      "\n",
      "[8 rows x 34 columns]\n"
     ]
    }
   ],
   "source": [
    "#Describe dataset\n",
    "print(iono_1.describe())"
   ]
  },
  {
   "cell_type": "code",
   "execution_count": 4,
   "id": "55c5bf4c",
   "metadata": {},
   "outputs": [
    {
     "data": {
      "text/plain": [
       "a1       int64\n",
       "a2       int64\n",
       "a3     float64\n",
       "a4     float64\n",
       "a5     float64\n",
       "a6     float64\n",
       "a7     float64\n",
       "a8     float64\n",
       "a9     float64\n",
       "a10    float64\n",
       "a11    float64\n",
       "a12    float64\n",
       "a13    float64\n",
       "a14    float64\n",
       "a15    float64\n",
       "a16    float64\n",
       "a17    float64\n",
       "a18    float64\n",
       "a19    float64\n",
       "a20    float64\n",
       "a21    float64\n",
       "a22    float64\n",
       "a23    float64\n",
       "a24    float64\n",
       "a25    float64\n",
       "a26    float64\n",
       "a27    float64\n",
       "a28    float64\n",
       "a29    float64\n",
       "a30    float64\n",
       "a31    float64\n",
       "a32    float64\n",
       "a33    float64\n",
       "a34    float64\n",
       "y       object\n",
       "dtype: object"
      ]
     },
     "execution_count": 4,
     "metadata": {},
     "output_type": "execute_result"
    }
   ],
   "source": [
    "iono_1.dtypes #Get datatype of features"
   ]
  },
  {
   "cell_type": "code",
   "execution_count": 5,
   "id": "4c3ceaf3",
   "metadata": {},
   "outputs": [
    {
     "name": "stdout",
     "output_type": "stream",
     "text": [
      "[[ 1.       0.       0.99539 ...  0.18641 -0.453    1.     ]\n",
      " [ 1.       0.       1.      ... -0.13738 -0.02447  0.     ]\n",
      " [ 1.       0.       1.      ...  0.56045 -0.38238  1.     ]\n",
      " ...\n",
      " [ 1.       0.       0.94701 ...  0.92697 -0.00577  1.     ]\n",
      " [ 1.       0.       0.90608 ...  0.87403 -0.16243  1.     ]\n",
      " [ 1.       0.       0.8471  ...  0.85764 -0.06151  1.     ]]\n",
      "[[ 1.       0.       0.99539 ... -0.54487  0.18641 -0.453  ]\n",
      " [ 1.       0.       1.      ... -0.06288 -0.13738 -0.02447]\n",
      " [ 1.       0.       1.      ... -0.2418   0.56045 -0.38238]\n",
      " ...\n",
      " [ 1.       0.       0.94701 ...  0.00442  0.92697 -0.00577]\n",
      " [ 1.       0.       0.90608 ... -0.03757  0.87403 -0.16243]\n",
      " [ 1.       0.       0.8471  ... -0.06678  0.85764 -0.06151]]\n"
     ]
    }
   ],
   "source": [
    "#Make a copy of original data\n",
    "iono_2 = iono_1\n",
    "#deal with categorical(nominal) variables - The class label ‘y’ \n",
    "iono_2['y'] = iono_2['y'].replace({'b': 0, 'g': 1})\n",
    "# get input data in form of array of just values\n",
    "iono_array = iono_2.values\n",
    "print(iono_array)\n",
    "X = iono_array[:,0:-1] #Omit values of label column \"y\" for input array\n",
    "print(X)"
   ]
  },
  {
   "cell_type": "code",
   "execution_count": 6,
   "id": "0d476685",
   "metadata": {},
   "outputs": [],
   "source": [
    "#Apply Kmean clustering\n",
    "kmeans = KMeans(n_clusters=2, random_state=0).fit(X)"
   ]
  },
  {
   "cell_type": "markdown",
   "id": "03120f47",
   "metadata": {},
   "source": [
    "#### check how many data samples in each cluster"
   ]
  },
  {
   "cell_type": "code",
   "execution_count": 10,
   "id": "024c5b04",
   "metadata": {},
   "outputs": [
    {
     "name": "stdout",
     "output_type": "stream",
     "text": [
      "cluster counts {0: 161, 1: 190}\n",
      "y counts {0.0: 126, 1.0: 225}\n"
     ]
    }
   ],
   "source": [
    "#Get the lables of the new clusters\n",
    "kmeans_labels = kmeans.labels_\n",
    "#Get count of each clusters from K_mean\n",
    "unique_labels, unique_counts = np.unique(kmeans_labels, return_counts=True)\n",
    "print(\"cluster counts\", dict(zip(unique_labels, unique_counts)))\n",
    "#Get count of actual labels\n",
    "unique_y, counts_y = np.unique(iono_array[:,-1], return_counts=True)\n",
    "print(\"y counts\", dict(zip(unique_y, counts_y)))"
   ]
  },
  {
   "cell_type": "code",
   "execution_count": 24,
   "id": "b2cb4de4",
   "metadata": {},
   "outputs": [
    {
     "name": "stdout",
     "output_type": "stream",
     "text": [
      "k means prediction accuracy: 0.7122507122507122\n",
      "[[ 93  33]\n",
      " [ 68 157]]\n"
     ]
    }
   ],
   "source": [
    "y = iono_array[:,-1] #Define y as label from the array of the original dataset\n",
    "# or kmeans_lables = kmeans.predict(X)\n",
    "accuracy = accuracy_score(y, kmeans_labels)\n",
    "print(\"k means prediction accuracy:\", accuracy)\n",
    "print(confusion_matrix(y, kmeans_labels))"
   ]
  }
 ],
 "metadata": {
  "kernelspec": {
   "display_name": "Python 3",
   "language": "python",
   "name": "python3"
  },
  "language_info": {
   "codemirror_mode": {
    "name": "ipython",
    "version": 3
   },
   "file_extension": ".py",
   "mimetype": "text/x-python",
   "name": "python",
   "nbconvert_exporter": "python",
   "pygments_lexer": "ipython3",
   "version": "3.8.8"
  },
  "latex_envs": {
   "LaTeX_envs_menu_present": true,
   "autoclose": false,
   "autocomplete": true,
   "bibliofile": "biblio.bib",
   "cite_by": "apalike",
   "current_citInitial": 1,
   "eqLabelWithNumbers": true,
   "eqNumInitial": 1,
   "hotkeys": {
    "equation": "Ctrl-E",
    "itemize": "Ctrl-I"
   },
   "labels_anchors": false,
   "latex_user_defs": false,
   "report_style_numbering": false,
   "user_envs_cfg": false
  }
 },
 "nbformat": 4,
 "nbformat_minor": 5
}
